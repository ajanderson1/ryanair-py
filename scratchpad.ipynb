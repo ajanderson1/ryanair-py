{
 "cells": [
  {
   "cell_type": "code",
   "execution_count": 4,
   "metadata": {},
   "outputs": [],
   "source": [
    "%reload_ext autoreload\n",
    "%autoreload 2\n",
    "\n",
    "from ryanair import Ryanair\n",
    "import pandas as pd\n",
    "\n",
    "import logging\n",
    "logging.basicConfig(level=logging.DEBUG)\n",
    "logger = logging.getLogger(__name__)\n",
    "\n",
    "my_airport_from = 'GOT'\n",
    "my_airport_to = 'EDI'\n",
    "\n",
    "api = Ryanair()\n"
   ]
  },
  {
   "cell_type": "code",
   "execution_count": 5,
   "metadata": {},
   "outputs": [],
   "source": [
    "%%script false --no-raise-error\n",
    "api = Ryanair()\n",
    "res = api.get_flight_schedules(my_airport_from)\n",
    "res[my_airport_to]\n",
    "my_airport_to in res\n",
    "# create a dataframe from the response\n",
    "df = pd.DataFrame(res).T"
   ]
  },
  {
   "cell_type": "code",
   "execution_count": null,
   "metadata": {},
   "outputs": [],
   "source": [
    "response = api.get_available_flights(my_airport_from, my_airport_to)\n",
    "print(f\"There are {len(response)} days with available flights from {my_airport_from}  between {response[0]} and {response[-1]}\")\n",
    "response.k"
   ]
  },
  {
   "cell_type": "code",
   "execution_count": 6,
   "metadata": {},
   "outputs": [
    {
     "name": "stderr",
     "output_type": "stream",
     "text": [
      "WARNING:ryanair.ryanair:No regularFare in this_flight - Sold Out:True\n"
     ]
    }
   ],
   "source": [
    "response = api.get_all_flights(\n",
    "    date_out='2023-07-25',\n",
    "    # destination=my_airport_to,\n",
    "    destination=my_airport_from,\n",
    "    # origin_airport=my_airport_from\n",
    "    origin_airport=my_airport_to\n",
    "    )\n"
   ]
  },
  {
   "cell_type": "code",
   "execution_count": 16,
   "metadata": {
    "tags": []
   },
   "outputs": [
    {
     "data": {
      "text/plain": [
       "('departureTime_local',\n",
       " 'departureTime_utc',\n",
       " 'arrivalTime_local',\n",
       " 'arrivalTime_utc',\n",
       " 'flightNumber',\n",
       " 'operatedBy',\n",
       " 'duration',\n",
       " 'actualFare',\n",
       " 'publishedFare',\n",
       " 'hasDiscount',\n",
       " 'discountInPercent',\n",
       " 'hasPromoDiscount',\n",
       " 'hasBogof',\n",
       " 'infantsLeft',\n",
       " 'faresLeft',\n",
       " 'currency',\n",
       " 'origin',\n",
       " 'originFull',\n",
       " 'destination',\n",
       " 'destinationFull')"
      ]
     },
     "execution_count": 16,
     "metadata": {},
     "output_type": "execute_result"
    }
   ],
   "source": [
    "response[0]\n",
    "# get keys of this named tuple\n",
    "response[0]._fields"
   ]
  },
  {
   "cell_type": "code",
   "execution_count": 32,
   "metadata": {},
   "outputs": [],
   "source": [
    "from ryanair.types import FlightV2\n",
    "from ryanair.airport_utils import get_airport_by_iata"
   ]
  },
  {
   "cell_type": "code",
   "execution_count": 40,
   "metadata": {},
   "outputs": [
    {
     "data": {
      "text/plain": [
       "'Gothenburg-Landvetter Airport, Gothenburg'"
      ]
     },
     "execution_count": 40,
     "metadata": {},
     "output_type": "execute_result"
    }
   ],
   "source": [
    "get_airport_by_iata('GOT')"
   ]
  },
  {
   "cell_type": "code",
   "execution_count": 45,
   "metadata": {},
   "outputs": [
    {
     "data": {
      "text/plain": [
       "[FlightV2(departureTime_local='2023-07-25T22:35:00.000', departureTime_utc='2023-07-25T20:35:00.000Z', arrivalTime_local='2023-07-25T23:30:00.000', arrivalTime_utc='2023-07-25T22:30:00.000Z', flightNumber='RK 5658', operatedBy='Ryanair UK', duration='01:55', actualFare=295.09, publishedFare=339.0, hasDiscount=True, discountInPercent=0, hasPromoDiscount=False, hasBogof=False, infantsLeft=17, faresLeft=2, currency='SEK', origin='GOT', originFull='Gothenburg-Landvetter Airport, Gothenburg', destination='EDI', destinationFull='Edinburgh Airport, Edinburgh'),\n",
       " FlightV2(departureTime_local='2023-07-26T23:00:00.000', departureTime_utc='2023-07-26T21:00:00.000Z', arrivalTime_local='2023-07-26T23:55:00.000', arrivalTime_utc='2023-07-26T22:55:00.000Z', flightNumber='FR 5658', operatedBy='', duration='01:55', actualFare=290.7, publishedFare=339.0, hasDiscount=True, discountInPercent=0, hasPromoDiscount=False, hasBogof=False, infantsLeft=18, faresLeft=5, currency='SEK', origin='GOT', originFull='Gothenburg-Landvetter Airport, Gothenburg', destination='EDI', destinationFull='Edinburgh Airport, Edinburgh'),\n",
       " FlightV2(departureTime_local='2023-07-30T22:10:00.000', departureTime_utc='2023-07-30T20:10:00.000Z', arrivalTime_local='2023-07-30T23:05:00.000', arrivalTime_utc='2023-07-30T22:05:00.000Z', flightNumber='FR 5658', operatedBy='', duration='01:55', actualFare=259.15, publishedFare=259.15, hasDiscount=False, discountInPercent=0, hasPromoDiscount=False, hasBogof=False, infantsLeft=18, faresLeft=4, currency='SEK', origin='GOT', originFull='Gothenburg-Landvetter Airport, Gothenburg', destination='EDI', destinationFull='Edinburgh Airport, Edinburgh')]"
      ]
     },
     "execution_count": 45,
     "metadata": {},
     "output_type": "execute_result"
    }
   ],
   "source": [
    "response"
   ]
  },
  {
   "cell_type": "code",
   "execution_count": null,
   "metadata": {},
   "outputs": [],
   "source": [
    "\n",
    "list_of_flights = []\n",
    "currency = response['currency']  # the currency will use the origin airport if allowable otherwise defailt to locale\n",
    "\n",
    "try:\n",
    "    assert len(response['trips']) == 1\n",
    "except AssertionError:\n",
    "    logger.warning(f\"There are multiple ({len(response['trips'])}) trips in the response, this is not expected - ignoring\")\n",
    "    logger.critical(\"STOOOOOPPPP!\")\n",
    "    pass\n",
    "\n",
    "for this_date in response['trips'][0]['dates']:\n",
    "    for this_flight in this_date['flights']:\n",
    "        flight_dict = {}\n",
    "\n",
    "        # currency\n",
    "        flight_dict['currency'] = currency\n",
    "\n",
    "        # faresLeft\n",
    "        if 'faresLeft' in this_flight:\n",
    "            flight_dict['faresLeft'] = this_flight['faresLeft']  # NB: '-1' appears to suggest it doesnt know, ie lots! (not overbooked i dont think)\n",
    "            if flight_dict['faresLeft'] == -1:\n",
    "                flight_dict['faresLeft'] = float('inf')\n",
    "        else:\n",
    "            flight_dict['faresLeft'] = None\n",
    "\n",
    "        # flightKey\n",
    "        if 'flightKey' in this_flight:\n",
    "            # flight_dict['flightKey'] = this_flight['flightKey'] # can ignore for now as data is duplicated\n",
    "            pass\n",
    "\n",
    "        # infantsLeft\n",
    "        if 'infantsLeft' in this_flight:\n",
    "            flight_dict['infantsLeft'] = this_flight['infantsLeft']\n",
    "            if flight_dict['infantsLeft'] == -1:\n",
    "                flight_dict['infantsLeft'] = float('inf')\n",
    "        else:\n",
    "            flight_dict['infantsLeft'] = None\n",
    "\n",
    "        # regularFare\n",
    "        if 'regularFare' in this_flight:\n",
    "            try:\n",
    "                assert 'fares' in this_flight['regularFare'] and len(this_flight['regularFare']['fares']) == 1\n",
    "                for this_fare in this_flight['regularFare']['fares']:\n",
    "                    assert this_fare['type'] == 'ADT'\n",
    "                    flight_dict['actualFare'] = this_fare['amount']\n",
    "                    flight_dict['publishedFare'] = this_fare['publishedFare']\n",
    "                    # flight_dict['price'] = this_fare['count'] # ignore\n",
    "                    flight_dict['hasDiscount'] = this_fare['hasDiscount']\n",
    "                    flight_dict['discountInPercent'] = this_fare['discountInPercent']\n",
    "                    flight_dict['hasPromoDiscount'] = this_fare['hasPromoDiscount']\n",
    "                    flight_dict['hasBogof'] = this_fare['hasBogof']\n",
    "            except AssertionError:\n",
    "                logger.warning(f\"Unexpected regularFare structure - ignoring entire API call\")\n",
    "                continue\n",
    "\n",
    "        # operatedBy\n",
    "        if 'operatedBy' in this_flight:\n",
    "            flight_dict['operatedBy'] = this_flight['operatedBy']\n",
    "\n",
    "        # segments\n",
    "        if 'segments' in this_flight:\n",
    "            try:\n",
    "                assert len(this_flight['segments']) == 1\n",
    "                this_segment = this_flight['segments'][0]\n",
    "\n",
    "                # flightNumber\n",
    "                if 'flightNumber' in this_segment:\n",
    "                    flight_dict['flightNumber'] = this_segment['flightNumber']\n",
    "\n",
    "                # time\n",
    "                if 'time' in this_segment:\n",
    "                    assert len(this_segment['time']) == 2\n",
    "                    flight_dict['departureTime_local'] = this_segment['time'][0]\n",
    "                    flight_dict['arrivalTime_local'] = this_segment['time'][1]\n",
    "                    # convert to datetime without using pandas\n",
    "                    # flight_dict['departureTime_local'] = datetime.strptime(flight_dict['departureTime_local'], '%H:%M')\n",
    "                    # flight_dict['arrivalTime_local'] = datetime.strptime(flight_dict['arrivalTime_local'], '%H:%M')\n",
    "\n",
    "                # timeUTC\n",
    "                if 'timeUTC' in this_segment:\n",
    "                    assert len(this_segment['timeUTC']) == 2\n",
    "                    flight_dict['departureTime_utc'] = this_segment['timeUTC'][0]\n",
    "                    flight_dict['arrivalTime_utc'] = this_segment['timeUTC'][1]\n",
    "                    # convert to datetime\n",
    "                    # flight_dict['departureTime_utc'] = pd.to_datetime(flight_dict['departureTime_utc'])\n",
    "                    # flight_dict['arrivalTime_utc'] = pd.to_datetime(flight_dict['arrivalTime_utc'])\n",
    "\n",
    "                # duration\n",
    "                flight_dict['duration'] = this_segment['duration'] if 'duration' in this_flight else None\n",
    "\n",
    "                # origin\n",
    "                if 'origin' in this_segment:\n",
    "                    flight_dict['origin'] = this_segment['origin']\n",
    "                    flight_dict['originFull'] = get_airport_by_iata(this_segment['origin'])\n",
    "                else:\n",
    "                    logger.warning(f\"Unexpected origin structure - ignoring this flight\")\n",
    "                    logger.critical(this_flight.keys())\n",
    "                    continue\n",
    "\n",
    "                # destination\n",
    "                if 'destination' in this_segment:\n",
    "                    flight_dict['destination'] = this_segment['destination']\n",
    "                    flight_dict['destinationFull'] = get_airport_by_iata(this_segment['destination'])\n",
    "                else:\n",
    "                    logger.warning(f\"Unexpected destination structure - ignoring this flight\")\n",
    "                    continue\n",
    "\n",
    "            except AssertionError:\n",
    "                logger.warning(f\"Unexpected segments structure - ignoring entire API call\")\n",
    "                continue\n",
    "        \n",
    "        print(flight_dict)\n",
    "        list_of_flights.append(FlightV2(**flight_dict))\n",
    "# list_of_flights"
   ]
  },
  {
   "cell_type": "code",
   "execution_count": null,
   "metadata": {},
   "outputs": [],
   "source": [
    "# what is the top level of  the res dict\n",
    "print(f\"Top level of the response is {response.keys()}\")\n",
    "# what is the second level of the res dict\n",
    "print(f\"Second level of the response is\")\n",
    "for key in response.keys():\n",
    "    if isinstance(response[key], list):\n",
    "        for item in response[key]:\n",
    "            print(item.keys())\n",
    "\n",
    "# what is the third level of the res dict\n",
    "print(f\"Third level of the response is\")\n",
    "for key in response.keys():\n",
    "    if isinstance(response[key], list):\n",
    "        for item in response[key]:\n",
    "            for key2 in item.keys():\n",
    "                if isinstance(item[key2], list):\n",
    "                    for item2 in item[key2]:\n",
    "                        print(item2.keys())\n",
    "\n",
    "\n",
    "# what is the fourth level of the res dict\n",
    "print(f\"Fourth level of the response is\")\n",
    "for key in response.keys():\n",
    "    if isinstance(response[key], list):\n",
    "        for item in response[key]:\n",
    "            for key2 in item.keys():\n",
    "                if isinstance(item[key2], list):\n",
    "                    for item2 in item[key2]:\n",
    "                        for key3 in item2.keys():\n",
    "                            if isinstance(item2[key3], list):\n",
    "                                for item3 in item2[key3]:\n",
    "                                    print(item3.keys())"
   ]
  },
  {
   "cell_type": "code",
   "execution_count": null,
   "metadata": {},
   "outputs": [],
   "source": [
    "# example dict\n",
    "example_dict = {\n",
    "    'a': 1,\n",
    "    'b': 2,\n",
    "    'c': 3}\n",
    "\n",
    "\n",
    "x = example_dict['c'] if 'c' in example_dict else 2\n",
    "x"
   ]
  },
  {
   "cell_type": "code",
   "execution_count": null,
   "metadata": {},
   "outputs": [],
   "source": [
    "flight_dict['duration'] = this_flight['duration'] if 'duration' in this_flight else None"
   ]
  }
 ],
 "metadata": {
  "kernelspec": {
   "display_name": "Python 3",
   "language": "python",
   "name": "python3"
  },
  "language_info": {
   "codemirror_mode": {
    "name": "ipython",
    "version": 3
   },
   "file_extension": ".py",
   "mimetype": "text/x-python",
   "name": "python",
   "nbconvert_exporter": "python",
   "pygments_lexer": "ipython3",
   "version": "3.10.9"
  },
  "orig_nbformat": 4
 },
 "nbformat": 4,
 "nbformat_minor": 2
}
